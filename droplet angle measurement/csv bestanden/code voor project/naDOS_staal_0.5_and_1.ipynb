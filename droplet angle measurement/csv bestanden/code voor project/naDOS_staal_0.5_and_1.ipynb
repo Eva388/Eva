{
 "cells": [
  {
   "cell_type": "code",
   "execution_count": 21,
   "id": "3fbc1087-faa1-41bb-91c3-93eeffb86ece",
   "metadata": {},
   "outputs": [],
   "source": [
    "import pandas as pd\n",
    "import os\n",
    "from os import listdir\n",
    "import numpy as np\n",
    "import matplotlib.pyplot as plt"
   ]
  },
  {
   "cell_type": "code",
   "execution_count": 22,
   "id": "3132c86f-4424-4eb1-ae57-0350985e9f27",
   "metadata": {},
   "outputs": [
    {
     "data": {
      "text/plain": [
       "['.ipynb',\n",
       " '.ipynb_checkpoints',\n",
       " 'code',\n",
       " 'codeplotten.py',\n",
       " 'CPC-Copy1.ipynb',\n",
       " 'CPC.csv',\n",
       " 'CPC.ipynb',\n",
       " 'CPC.png',\n",
       " 'Das',\n",
       " 'DOS _0.5_and_1_on_PMDS.csv',\n",
       " 'Dos.csv',\n",
       " 'DOS.ipynb',\n",
       " 'DOSS on PDMS.png',\n",
       " 'DOSS.png',\n",
       " 'Dos_0.5and_1_on_Steel.csv',\n",
       " 'Dos_0.5_and_1_on_PDMS.ipynb',\n",
       " 'Dos_0.5_and_1_on_Steel_no_comments.csv',\n",
       " 'Dos_0_0.5_and_1_on_Steel_no_comments.csv',\n",
       " 'DOS_staal_0.5_and_1-Copy1.ipynb',\n",
       " 'naDOS_staal_0.5_and_1.ipynb',\n",
       " 'SDS.csv',\n",
       " 'SDS.ipynb',\n",
       " 'SDS.png',\n",
       " 'test.py',\n",
       " 'triton.csv',\n",
       " 'Triton.ipynb',\n",
       " 'triton2.csv',\n",
       " 'triton3.csv',\n",
       " 'water_glas.csv',\n",
       " 'water_glas.ipynb',\n",
       " 'water_PDMS.csv',\n",
       " 'water_staal.csv',\n",
       " 'water_staal.ipynb']"
      ]
     },
     "execution_count": 22,
     "metadata": {},
     "output_type": "execute_result"
    }
   ],
   "source": [
    "listdir(\"./\")"
   ]
  },
  {
   "cell_type": "code",
   "execution_count": null,
   "id": "a8fc757a-9959-429b-b406-68b38ca11925",
   "metadata": {},
   "outputs": [],
   "source": []
  },
  {
   "cell_type": "code",
   "execution_count": null,
   "id": "aaae93e8-6a6f-4eea-b597-19ec28635cc4",
   "metadata": {},
   "outputs": [],
   "source": []
  },
  {
   "cell_type": "code",
   "execution_count": null,
   "id": "79fef272-4dae-4115-8be1-7edf99ffea1c",
   "metadata": {},
   "outputs": [],
   "source": []
  },
  {
   "cell_type": "code",
   "execution_count": 25,
   "id": "6f23916c-42a7-439f-87c6-66f4a2ff82ba",
   "metadata": {},
   "outputs": [],
   "source": [
    "data_dict = dict()\n",
    "for frame in df_list:\n",
    "    time = frame[\"time\"]\n",
    "    angle = frame[\"hoek\"]\n",
    "    error = frame[\"error\"]\n",
    "    data_dict[frame[\"water_metaal\"].unique()[0]] = (time,angle,error)"
   ]
  },
  {
   "cell_type": "code",
   "execution_count": 26,
   "id": "3d929633-70d4-40d4-955b-e037fc643080",
   "metadata": {},
   "outputs": [
    {
     "data": {
      "text/plain": [
       "array([0.5, 1. ])"
      ]
     },
     "execution_count": 26,
     "metadata": {},
     "output_type": "execute_result"
    }
   ],
   "source": [
    "df = pd.read_csv(\"./Dos_0.5_and_1_on_Steel_no_comments.csv\", sep = \";\")\n",
    "df[\"DOS_staal\"].unique()"
   ]
  },
  {
   "cell_type": "code",
   "execution_count": 27,
   "id": "09dbb397-66c3-4a82-8146-f67510a13573",
   "metadata": {},
   "outputs": [
    {
     "data": {
      "text/html": [
       "<div>\n",
       "<style scoped>\n",
       "    .dataframe tbody tr th:only-of-type {\n",
       "        vertical-align: middle;\n",
       "    }\n",
       "\n",
       "    .dataframe tbody tr th {\n",
       "        vertical-align: top;\n",
       "    }\n",
       "\n",
       "    .dataframe thead th {\n",
       "        text-align: right;\n",
       "    }\n",
       "</style>\n",
       "<table border=\"1\" class=\"dataframe\">\n",
       "  <thead>\n",
       "    <tr style=\"text-align: right;\">\n",
       "      <th></th>\n",
       "      <th>DOS_staal</th>\n",
       "      <th>tijd</th>\n",
       "      <th>hoek</th>\n",
       "      <th>error</th>\n",
       "    </tr>\n",
       "  </thead>\n",
       "  <tbody>\n",
       "    <tr>\n",
       "      <th>0</th>\n",
       "      <td>0.5</td>\n",
       "      <td>2</td>\n",
       "      <td>50.0</td>\n",
       "      <td>0.82</td>\n",
       "    </tr>\n",
       "    <tr>\n",
       "      <th>1</th>\n",
       "      <td>0.5</td>\n",
       "      <td>4</td>\n",
       "      <td>51.4</td>\n",
       "      <td>0.50</td>\n",
       "    </tr>\n",
       "    <tr>\n",
       "      <th>2</th>\n",
       "      <td>0.5</td>\n",
       "      <td>6</td>\n",
       "      <td>50.2</td>\n",
       "      <td>0.10</td>\n",
       "    </tr>\n",
       "    <tr>\n",
       "      <th>3</th>\n",
       "      <td>0.5</td>\n",
       "      <td>8</td>\n",
       "      <td>48.7</td>\n",
       "      <td>0.77</td>\n",
       "    </tr>\n",
       "    <tr>\n",
       "      <th>4</th>\n",
       "      <td>0.5</td>\n",
       "      <td>10</td>\n",
       "      <td>49.3</td>\n",
       "      <td>0.87</td>\n",
       "    </tr>\n",
       "    <tr>\n",
       "      <th>5</th>\n",
       "      <td>0.5</td>\n",
       "      <td>15</td>\n",
       "      <td>49.2</td>\n",
       "      <td>1.03</td>\n",
       "    </tr>\n",
       "    <tr>\n",
       "      <th>6</th>\n",
       "      <td>0.5</td>\n",
       "      <td>20</td>\n",
       "      <td>49.0</td>\n",
       "      <td>0.74</td>\n",
       "    </tr>\n",
       "    <tr>\n",
       "      <th>7</th>\n",
       "      <td>0.5</td>\n",
       "      <td>25</td>\n",
       "      <td>48.2</td>\n",
       "      <td>0.80</td>\n",
       "    </tr>\n",
       "    <tr>\n",
       "      <th>8</th>\n",
       "      <td>0.5</td>\n",
       "      <td>60</td>\n",
       "      <td>48.4</td>\n",
       "      <td>0.22</td>\n",
       "    </tr>\n",
       "    <tr>\n",
       "      <th>9</th>\n",
       "      <td>1.0</td>\n",
       "      <td>2</td>\n",
       "      <td>36.9</td>\n",
       "      <td>0.33</td>\n",
       "    </tr>\n",
       "    <tr>\n",
       "      <th>10</th>\n",
       "      <td>1.0</td>\n",
       "      <td>4</td>\n",
       "      <td>37.0</td>\n",
       "      <td>0.89</td>\n",
       "    </tr>\n",
       "    <tr>\n",
       "      <th>11</th>\n",
       "      <td>1.0</td>\n",
       "      <td>6</td>\n",
       "      <td>35.6</td>\n",
       "      <td>0.38</td>\n",
       "    </tr>\n",
       "    <tr>\n",
       "      <th>12</th>\n",
       "      <td>1.0</td>\n",
       "      <td>8</td>\n",
       "      <td>35.7</td>\n",
       "      <td>0.58</td>\n",
       "    </tr>\n",
       "    <tr>\n",
       "      <th>13</th>\n",
       "      <td>1.0</td>\n",
       "      <td>10</td>\n",
       "      <td>35.2</td>\n",
       "      <td>0.35</td>\n",
       "    </tr>\n",
       "    <tr>\n",
       "      <th>14</th>\n",
       "      <td>1.0</td>\n",
       "      <td>15</td>\n",
       "      <td>34.7</td>\n",
       "      <td>0.01</td>\n",
       "    </tr>\n",
       "    <tr>\n",
       "      <th>15</th>\n",
       "      <td>1.0</td>\n",
       "      <td>20</td>\n",
       "      <td>34.8</td>\n",
       "      <td>0.37</td>\n",
       "    </tr>\n",
       "    <tr>\n",
       "      <th>16</th>\n",
       "      <td>1.0</td>\n",
       "      <td>25</td>\n",
       "      <td>34.9</td>\n",
       "      <td>0.88</td>\n",
       "    </tr>\n",
       "    <tr>\n",
       "      <th>17</th>\n",
       "      <td>1.0</td>\n",
       "      <td>60</td>\n",
       "      <td>33.6</td>\n",
       "      <td>0.36</td>\n",
       "    </tr>\n",
       "  </tbody>\n",
       "</table>\n",
       "</div>"
      ],
      "text/plain": [
       "    DOS_staal  tijd  hoek  error\n",
       "0         0.5     2  50.0   0.82\n",
       "1         0.5     4  51.4   0.50\n",
       "2         0.5     6  50.2   0.10\n",
       "3         0.5     8  48.7   0.77\n",
       "4         0.5    10  49.3   0.87\n",
       "5         0.5    15  49.2   1.03\n",
       "6         0.5    20  49.0   0.74\n",
       "7         0.5    25  48.2   0.80\n",
       "8         0.5    60  48.4   0.22\n",
       "9         1.0     2  36.9   0.33\n",
       "10        1.0     4  37.0   0.89\n",
       "11        1.0     6  35.6   0.38\n",
       "12        1.0     8  35.7   0.58\n",
       "13        1.0    10  35.2   0.35\n",
       "14        1.0    15  34.7   0.01\n",
       "15        1.0    20  34.8   0.37\n",
       "16        1.0    25  34.9   0.88\n",
       "17        1.0    60  33.6   0.36"
      ]
     },
     "execution_count": 27,
     "metadata": {},
     "output_type": "execute_result"
    }
   ],
   "source": [
    "df"
   ]
  },
  {
   "cell_type": "code",
   "execution_count": 28,
   "id": "08cade6e-9c16-4122-8cfd-3c2e50ba6b07",
   "metadata": {},
   "outputs": [],
   "source": [
    "\n",
    "for conc in df[\"DOS_staal\"].unique():\n",
    "    df_list.append(df[df[\"DOS_staal\"] == conc])"
   ]
  },
  {
   "cell_type": "code",
   "execution_count": 29,
   "id": "e9bb82fc-36e6-4149-9ca2-9ba0b5beb57a",
   "metadata": {},
   "outputs": [],
   "source": [
    "\n",
    "for frame in df_list:\n",
    "    time = frame[\"tijd\"]\n",
    "    angle = frame[\"hoek\"]\n",
    "    error = frame[\"error\"]\n",
    "    data_dict[frame[\"DOS_staal\"].unique()[0]] = (time,angle,error)"
   ]
  },
  {
   "cell_type": "code",
   "execution_count": 33,
   "id": "908eefb6-6a8d-407c-8e72-afedc06d7df1",
   "metadata": {},
   "outputs": [
    {
     "data": {
      "image/png": "[encoded data removed]",
      "text/plain": [
       "<Figure size 432x288 with 1 Axes>"
      ]
     },
     "metadata": {
      "needs_background": "light"
     },
     "output_type": "display_data"
    }
   ],
   "source": [
    "\n",
    "for name, values in data_dict.items():\n",
    "    plt.errorbar(values[0],values[1],values[2], linestyle = \"None\", label = f\"{name}%\", marker = \"o\")\n",
    " \n",
    "\n",
    "\n",
    "plt.legend()\n",
    "plt.xlim(0,70)\n",
    "plt.ylim(0,90)\n",
    "\n",
    "plt.xlabel('time in minutes')\n",
    "plt.ylabel('angle')\n",
    "\n",
    "plt.title('DOSS on steel')\n",
    "plt.savefig('DOSS on steel')"
   ]
  },
  {
   "cell_type": "code",
   "execution_count": null,
   "id": "31023508-7a5d-4b09-8556-a966687a66d4",
   "metadata": {},
   "outputs": [],
   "source": [
    "n_sets = 3\n",
    "\n",
    "fig,ax = plt.subplots(n_sets,1, figsize = (8,12))\n",
    "ax_idx = 0\n",
    "\n",
    "for name, values in data_dict.items():\n",
    "    ax[ax_idx].errorbar(values[0],values[1],values[2], linestyle = \"None\", label = f\"{name}%\", marker = \"o\")\n",
    "    ax[ax_idx].set_xlim(0,70)\n",
    "    ax[ax_idx].set_ylim(0,90)\n",
    "    ax[ax_idx].set_title(f\"DOS on steel solution with {name}% concentration\")\n",
    "    ax_idx += 1\n",
    "\n"
   ]
  },
  {
   "cell_type": "code",
   "execution_count": null,
   "id": "0a507251-3809-4313-aff8-6708b9c74356",
   "metadata": {},
   "outputs": [],
   "source": []
  },
  {
   "cell_type": "code",
   "execution_count": null,
   "id": "a328bdad-82a8-407d-b5d0-efc9b0accb06",
   "metadata": {},
   "outputs": [],
   "source": []
  }
 ],
 "metadata": {
  "kernelspec": {
   "display_name": "Python 3 (ipykernel)",
   "language": "python",
   "name": "python3"
  },
  "language_info": {
   "codemirror_mode": {
    "name": "ipython",
    "version": 3
   },
   "file_extension": ".py",
   "mimetype": "text/x-python",
   "name": "python",
   "nbconvert_exporter": "python",
   "pygments_lexer": "ipython3",
   "version": "3.9.12"
  }
 },
 "nbformat": 4,
 "nbformat_minor": 5
}
