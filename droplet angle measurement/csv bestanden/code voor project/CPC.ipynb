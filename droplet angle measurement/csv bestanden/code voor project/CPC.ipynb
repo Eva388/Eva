{
 "cells": [
  {
   "cell_type": "code",
   "execution_count": 30,
   "id": "3fbc1087-faa1-41bb-91c3-93eeffb86ece",
   "metadata": {},
   "outputs": [],
   "source": [
    "import pandas as pd\n",
    "import os\n",
    "from os import listdir\n",
    "import numpy as np\n",
    "import matplotlib.pyplot as plt"
   ]
  },
  {
   "cell_type": "code",
   "execution_count": 31,
   "id": "3132c86f-4424-4eb1-ae57-0350985e9f27",
   "metadata": {},
   "outputs": [
    {
     "data": {
      "text/plain": [
       "['.ipynb',\n",
       " '.ipynb_checkpoints',\n",
       " 'code',\n",
       " 'codeplotten.py',\n",
       " 'CPC-Copy1.ipynb',\n",
       " 'CPC.csv',\n",
       " 'CPC.ipynb',\n",
       " 'Das',\n",
       " 'DOS _0.5_and_1_on_PMDS.csv',\n",
       " 'Dos.csv',\n",
       " 'DOS.ipynb',\n",
       " 'Dos_0.5and_1_on_Steel.csv',\n",
       " 'Dos_0.5_and_1_on_PDMS.ipynb',\n",
       " 'Dos_0.5_and_1_on_Steel_no_comments.csv',\n",
       " 'Dos_0_0.5_and_1_on_Steel_no_comments.csv',\n",
       " 'DOS_staal_0.5_and_1-Copy1.ipynb',\n",
       " 'naDOS_staal_0.5_and_1.ipynb',\n",
       " 'SDS.csv',\n",
       " 'SDS.ipynb',\n",
       " 'test.py',\n",
       " 'triton.csv',\n",
       " 'Triton.ipynb',\n",
       " 'triton2.csv',\n",
       " 'triton3.csv',\n",
       " 'water_glas.csv',\n",
       " 'water_glas.ipynb',\n",
       " 'water_PDMS.csv',\n",
       " 'water_staal.csv',\n",
       " 'water_staal.ipynb']"
      ]
     },
     "execution_count": 31,
     "metadata": {},
     "output_type": "execute_result"
    }
   ],
   "source": [
    "listdir(\"./\")"
   ]
  },
  {
   "cell_type": "code",
   "execution_count": 32,
   "id": "3d929633-70d4-40d4-955b-e037fc643080",
   "metadata": {},
   "outputs": [
    {
     "data": {
      "text/plain": [
       "array([1, 3, 5], dtype=int64)"
      ]
     },
     "execution_count": 32,
     "metadata": {},
     "output_type": "execute_result"
    }
   ],
   "source": [
    "df = pd.read_csv(\"./CPC.csv\", sep = \";\")\n",
    "df[\"CPC\"].unique()"
   ]
  },
  {
   "cell_type": "code",
   "execution_count": 33,
   "id": "09dbb397-66c3-4a82-8146-f67510a13573",
   "metadata": {},
   "outputs": [
    {
     "data": {
      "text/html": [
       "<div>\n",
       "<style scoped>\n",
       "    .dataframe tbody tr th:only-of-type {\n",
       "        vertical-align: middle;\n",
       "    }\n",
       "\n",
       "    .dataframe tbody tr th {\n",
       "        vertical-align: top;\n",
       "    }\n",
       "\n",
       "    .dataframe thead th {\n",
       "        text-align: right;\n",
       "    }\n",
       "</style>\n",
       "<table border=\"1\" class=\"dataframe\">\n",
       "  <thead>\n",
       "    <tr style=\"text-align: right;\">\n",
       "      <th></th>\n",
       "      <th>CPC</th>\n",
       "      <th>tijd in min</th>\n",
       "      <th>hoek</th>\n",
       "      <th>error</th>\n",
       "    </tr>\n",
       "  </thead>\n",
       "  <tbody>\n",
       "    <tr>\n",
       "      <th>0</th>\n",
       "      <td>1</td>\n",
       "      <td>0.5</td>\n",
       "      <td>39.2</td>\n",
       "      <td>0.54</td>\n",
       "    </tr>\n",
       "    <tr>\n",
       "      <th>1</th>\n",
       "      <td>1</td>\n",
       "      <td>2.0</td>\n",
       "      <td>36.9</td>\n",
       "      <td>NaN</td>\n",
       "    </tr>\n",
       "    <tr>\n",
       "      <th>2</th>\n",
       "      <td>1</td>\n",
       "      <td>4.0</td>\n",
       "      <td>35.4</td>\n",
       "      <td>0.07</td>\n",
       "    </tr>\n",
       "    <tr>\n",
       "      <th>3</th>\n",
       "      <td>1</td>\n",
       "      <td>6.0</td>\n",
       "      <td>35.5</td>\n",
       "      <td>0.33</td>\n",
       "    </tr>\n",
       "    <tr>\n",
       "      <th>4</th>\n",
       "      <td>1</td>\n",
       "      <td>8.0</td>\n",
       "      <td>34.8</td>\n",
       "      <td>0.08</td>\n",
       "    </tr>\n",
       "    <tr>\n",
       "      <th>5</th>\n",
       "      <td>1</td>\n",
       "      <td>15.0</td>\n",
       "      <td>34.8</td>\n",
       "      <td>0.12</td>\n",
       "    </tr>\n",
       "    <tr>\n",
       "      <th>6</th>\n",
       "      <td>3</td>\n",
       "      <td>0.5</td>\n",
       "      <td>34.9</td>\n",
       "      <td>0.36</td>\n",
       "    </tr>\n",
       "    <tr>\n",
       "      <th>7</th>\n",
       "      <td>3</td>\n",
       "      <td>2.0</td>\n",
       "      <td>33.8</td>\n",
       "      <td>NaN</td>\n",
       "    </tr>\n",
       "    <tr>\n",
       "      <th>8</th>\n",
       "      <td>3</td>\n",
       "      <td>4.0</td>\n",
       "      <td>33.8</td>\n",
       "      <td>0.30</td>\n",
       "    </tr>\n",
       "    <tr>\n",
       "      <th>9</th>\n",
       "      <td>3</td>\n",
       "      <td>6.0</td>\n",
       "      <td>33.8</td>\n",
       "      <td>0.11</td>\n",
       "    </tr>\n",
       "    <tr>\n",
       "      <th>10</th>\n",
       "      <td>3</td>\n",
       "      <td>8.0</td>\n",
       "      <td>33.9</td>\n",
       "      <td>0.33</td>\n",
       "    </tr>\n",
       "    <tr>\n",
       "      <th>11</th>\n",
       "      <td>3</td>\n",
       "      <td>15.0</td>\n",
       "      <td>33.5</td>\n",
       "      <td>0.08</td>\n",
       "    </tr>\n",
       "    <tr>\n",
       "      <th>12</th>\n",
       "      <td>5</td>\n",
       "      <td>0.5</td>\n",
       "      <td>37.1</td>\n",
       "      <td>0.35</td>\n",
       "    </tr>\n",
       "    <tr>\n",
       "      <th>13</th>\n",
       "      <td>5</td>\n",
       "      <td>2.0</td>\n",
       "      <td>36.6</td>\n",
       "      <td>NaN</td>\n",
       "    </tr>\n",
       "    <tr>\n",
       "      <th>14</th>\n",
       "      <td>5</td>\n",
       "      <td>4.0</td>\n",
       "      <td>34.4</td>\n",
       "      <td>0.37</td>\n",
       "    </tr>\n",
       "    <tr>\n",
       "      <th>15</th>\n",
       "      <td>5</td>\n",
       "      <td>6.0</td>\n",
       "      <td>33.5</td>\n",
       "      <td>0.03</td>\n",
       "    </tr>\n",
       "    <tr>\n",
       "      <th>16</th>\n",
       "      <td>5</td>\n",
       "      <td>8.0</td>\n",
       "      <td>33.3</td>\n",
       "      <td>0.02</td>\n",
       "    </tr>\n",
       "    <tr>\n",
       "      <th>17</th>\n",
       "      <td>5</td>\n",
       "      <td>15.0</td>\n",
       "      <td>33.6</td>\n",
       "      <td>0.41</td>\n",
       "    </tr>\n",
       "  </tbody>\n",
       "</table>\n",
       "</div>"
      ],
      "text/plain": [
       "    CPC  tijd in min  hoek  error\n",
       "0     1          0.5  39.2   0.54\n",
       "1     1          2.0  36.9    NaN\n",
       "2     1          4.0  35.4   0.07\n",
       "3     1          6.0  35.5   0.33\n",
       "4     1          8.0  34.8   0.08\n",
       "5     1         15.0  34.8   0.12\n",
       "6     3          0.5  34.9   0.36\n",
       "7     3          2.0  33.8    NaN\n",
       "8     3          4.0  33.8   0.30\n",
       "9     3          6.0  33.8   0.11\n",
       "10    3          8.0  33.9   0.33\n",
       "11    3         15.0  33.5   0.08\n",
       "12    5          0.5  37.1   0.35\n",
       "13    5          2.0  36.6    NaN\n",
       "14    5          4.0  34.4   0.37\n",
       "15    5          6.0  33.5   0.03\n",
       "16    5          8.0  33.3   0.02\n",
       "17    5         15.0  33.6   0.41"
      ]
     },
     "execution_count": 33,
     "metadata": {},
     "output_type": "execute_result"
    }
   ],
   "source": [
    "df"
   ]
  },
  {
   "cell_type": "code",
   "execution_count": 34,
   "id": "08cade6e-9c16-4122-8cfd-3c2e50ba6b07",
   "metadata": {},
   "outputs": [],
   "source": [
    "df_list = list()\n",
    "for conc in df[\"CPC\"].unique():\n",
    "    df_list.append(df[df[\"CPC\"] == conc])"
   ]
  },
  {
   "cell_type": "code",
   "execution_count": 35,
   "id": "e9bb82fc-36e6-4149-9ca2-9ba0b5beb57a",
   "metadata": {},
   "outputs": [],
   "source": [
    "data_dict = dict()\n",
    "for frame in df_list:\n",
    "    time = frame[\"tijd in min\"]\n",
    "    angle = frame[\"hoek\"]\n",
    "    error = frame[\"error\"]\n",
    "    data_dict[frame[\"CPC\"].unique()[0]] = (time,angle,error)"
   ]
  },
  {
   "cell_type": "code",
   "execution_count": 46,
   "id": "908eefb6-6a8d-407c-8e72-afedc06d7df1",
   "metadata": {},
   "outputs": [
    {
     "name": "stderr",
     "output_type": "stream",
     "text": [
      "C:\\Users\\fcroo\\anaconda3\\lib\\site-packages\\numpy\\core\\_methods.py:44: RuntimeWarning: invalid value encountered in reduce\n",
      "  return umr_minimum(a, axis, None, out, keepdims, initial, where)\n",
      "C:\\Users\\fcroo\\anaconda3\\lib\\site-packages\\numpy\\core\\_methods.py:40: RuntimeWarning: invalid value encountered in reduce\n",
      "  return umr_maximum(a, axis, None, out, keepdims, initial, where)\n",
      "C:\\Users\\fcroo\\anaconda3\\lib\\site-packages\\numpy\\core\\_methods.py:44: RuntimeWarning: invalid value encountered in reduce\n",
      "  return umr_minimum(a, axis, None, out, keepdims, initial, where)\n",
      "C:\\Users\\fcroo\\anaconda3\\lib\\site-packages\\numpy\\core\\_methods.py:40: RuntimeWarning: invalid value encountered in reduce\n",
      "  return umr_maximum(a, axis, None, out, keepdims, initial, where)\n",
      "C:\\Users\\fcroo\\anaconda3\\lib\\site-packages\\numpy\\core\\_methods.py:44: RuntimeWarning: invalid value encountered in reduce\n",
      "  return umr_minimum(a, axis, None, out, keepdims, initial, where)\n",
      "C:\\Users\\fcroo\\anaconda3\\lib\\site-packages\\numpy\\core\\_methods.py:40: RuntimeWarning: invalid value encountered in reduce\n",
      "  return umr_maximum(a, axis, None, out, keepdims, initial, where)\n"
     ]
    },
    {
     "data": {
      "image/png": "[encoded data removed]",
      "text/plain": [
       "<Figure size 432x288 with 1 Axes>"
      ]
     },
     "metadata": {
      "needs_background": "light"
     },
     "output_type": "display_data"
    }
   ],
   "source": [
    "for name, values in data_dict.items():\n",
    "    plt.errorbar(values[0],values[1],values[2], linestyle = \"None\", label = f\"{name}%\", marker = \"o\")\n",
    "    \n",
    "plt.legend()\n",
    "plt.xlim(0,20)\n",
    "plt.ylim(0,50)\n",
    "plt.xlabel('time in minutes')\n",
    "plt.ylabel('angle')\n",
    "\n",
    "plt.title('CPC')\n",
    "plt.savefig('CPC')"
   ]
  },
  {
   "cell_type": "code",
   "execution_count": 37,
   "id": "31023508-7a5d-4b09-8556-a966687a66d4",
   "metadata": {},
   "outputs": [
    {
     "name": "stderr",
     "output_type": "stream",
     "text": [
      "C:\\Users\\fcroo\\anaconda3\\lib\\site-packages\\numpy\\core\\_methods.py:44: RuntimeWarning: invalid value encountered in reduce\n",
      "  return umr_minimum(a, axis, None, out, keepdims, initial, where)\n",
      "C:\\Users\\fcroo\\anaconda3\\lib\\site-packages\\numpy\\core\\_methods.py:40: RuntimeWarning: invalid value encountered in reduce\n",
      "  return umr_maximum(a, axis, None, out, keepdims, initial, where)\n",
      "C:\\Users\\fcroo\\anaconda3\\lib\\site-packages\\numpy\\core\\_methods.py:44: RuntimeWarning: invalid value encountered in reduce\n",
      "  return umr_minimum(a, axis, None, out, keepdims, initial, where)\n",
      "C:\\Users\\fcroo\\anaconda3\\lib\\site-packages\\numpy\\core\\_methods.py:40: RuntimeWarning: invalid value encountered in reduce\n",
      "  return umr_maximum(a, axis, None, out, keepdims, initial, where)\n",
      "C:\\Users\\fcroo\\anaconda3\\lib\\site-packages\\numpy\\core\\_methods.py:44: RuntimeWarning: invalid value encountered in reduce\n",
      "  return umr_minimum(a, axis, None, out, keepdims, initial, where)\n",
      "C:\\Users\\fcroo\\anaconda3\\lib\\site-packages\\numpy\\core\\_methods.py:40: RuntimeWarning: invalid value encountered in reduce\n",
      "  return umr_maximum(a, axis, None, out, keepdims, initial, where)\n"
     ]
    },
    {
     "data": {
      "image/png": "[encoded data removed]",
      "text/plain": [
       "<Figure size 576x864 with 3 Axes>"
      ]
     },
     "metadata": {
      "needs_background": "light"
     },
     "output_type": "display_data"
    }
   ],
   "source": [
    "\n",
    "n_sets = 3\n",
    "\n",
    "fig,ax = plt.subplots(n_sets,1, figsize = (8,12))\n",
    "ax_idx = 0\n",
    "\n",
    "for name, values in data_dict.items():\n",
    "    ax[ax_idx].errorbar(values[0],values[1],values[2], linestyle = \"None\", label = f\"{name}%\", marker = \"o\")\n",
    "    ax[ax_idx].set_xlim(0,20)\n",
    "    ax[ax_idx].set_ylim(0,50)\n",
    "    ax[ax_idx].set_title(f\"CPC solution with {name}% concentration\")\n",
    "    ax_idx += 1\n",
    "\n"
   ]
  },
  {
   "cell_type": "code",
   "execution_count": null,
   "id": "0a507251-3809-4313-aff8-6708b9c74356",
   "metadata": {},
   "outputs": [],
   "source": []
  }
 ],
 "metadata": {
  "kernelspec": {
   "display_name": "Python 3 (ipykernel)",
   "language": "python",
   "name": "python3"
  },
  "language_info": {
   "codemirror_mode": {
    "name": "ipython",
    "version": 3
   },
   "file_extension": ".py",
   "mimetype": "text/x-python",
   "name": "python",
   "nbconvert_exporter": "python",
   "pygments_lexer": "ipython3",
   "version": "3.9.12"
  }
 },
 "nbformat": 4,
 "nbformat_minor": 5
}
