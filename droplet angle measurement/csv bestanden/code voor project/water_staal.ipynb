{
 "cells": [
  {
   "cell_type": "code",
   "execution_count": 26,
   "id": "3fbc1087-faa1-41bb-91c3-93eeffb86ece",
   "metadata": {},
   "outputs": [],
   "source": [
    "import pandas as pd\n",
    "import os\n",
    "from os import listdir\n",
    "import numpy as np\n",
    "import matplotlib.pyplot as plt"
   ]
  },
  {
   "cell_type": "code",
   "execution_count": 27,
   "id": "3132c86f-4424-4eb1-ae57-0350985e9f27",
   "metadata": {},
   "outputs": [
    {
     "data": {
      "text/plain": [
       "['.ipynb',\n",
       " '.ipynb_checkpoints',\n",
       " 'code',\n",
       " 'codeplotten.py',\n",
       " 'codetest.py',\n",
       " 'CPC.csv',\n",
       " 'CPC.ipynb',\n",
       " 'Das',\n",
       " 'DOS _0.5_and_1_on_PMDS.csv',\n",
       " 'Dos.csv',\n",
       " 'DOS.ipynb',\n",
       " 'Dos_0.5and_1_on_Steel.csv',\n",
       " 'Dos_0.5_and_1_on_PDMS.ipynb',\n",
       " 'Dos_0.5_and_1_on_Steel_no_comments.csv',\n",
       " 'DOS_staal_0.5_and_1-Copy1.ipynb',\n",
       " 'naDOS_staal_0.5_and_1.ipynb',\n",
       " 'SDS.csv',\n",
       " 'SDS.ipynb',\n",
       " 'test.py',\n",
       " 'triton.csv',\n",
       " 'Triton.ipynb',\n",
       " 'triton2.csv',\n",
       " 'triton3.csv',\n",
       " 'water_glas.csv',\n",
       " 'water_glas.ipynb',\n",
       " 'water_PDMS.csv',\n",
       " 'water_staal.csv',\n",
       " 'water_staal.ipynb']"
      ]
     },
     "execution_count": 27,
     "metadata": {},
     "output_type": "execute_result"
    }
   ],
   "source": [
    "listdir(\"./\")"
   ]
  },
  {
   "cell_type": "code",
   "execution_count": 28,
   "id": "3d929633-70d4-40d4-955b-e037fc643080",
   "metadata": {},
   "outputs": [
    {
     "data": {
      "text/plain": [
       "array([0], dtype=int64)"
      ]
     },
     "execution_count": 28,
     "metadata": {},
     "output_type": "execute_result"
    }
   ],
   "source": [
    "df = pd.read_csv(\"./water_staal.csv\", sep = \";\")\n",
    "df[\"water_metaal\"].unique()"
   ]
  },
  {
   "cell_type": "code",
   "execution_count": 29,
   "id": "09dbb397-66c3-4a82-8146-f67510a13573",
   "metadata": {},
   "outputs": [
    {
     "data": {
      "text/html": [
       "<div>\n",
       "<style scoped>\n",
       "    .dataframe tbody tr th:only-of-type {\n",
       "        vertical-align: middle;\n",
       "    }\n",
       "\n",
       "    .dataframe tbody tr th {\n",
       "        vertical-align: top;\n",
       "    }\n",
       "\n",
       "    .dataframe thead th {\n",
       "        text-align: right;\n",
       "    }\n",
       "</style>\n",
       "<table border=\"1\" class=\"dataframe\">\n",
       "  <thead>\n",
       "    <tr style=\"text-align: right;\">\n",
       "      <th></th>\n",
       "      <th>water_metaal</th>\n",
       "      <th>time</th>\n",
       "      <th>hoek</th>\n",
       "      <th>error</th>\n",
       "    </tr>\n",
       "  </thead>\n",
       "  <tbody>\n",
       "    <tr>\n",
       "      <th>0</th>\n",
       "      <td>0</td>\n",
       "      <td>1</td>\n",
       "      <td>55.4</td>\n",
       "      <td>0.58</td>\n",
       "    </tr>\n",
       "    <tr>\n",
       "      <th>1</th>\n",
       "      <td>0</td>\n",
       "      <td>2</td>\n",
       "      <td>74.8</td>\n",
       "      <td>0.11</td>\n",
       "    </tr>\n",
       "    <tr>\n",
       "      <th>2</th>\n",
       "      <td>0</td>\n",
       "      <td>3</td>\n",
       "      <td>83.2</td>\n",
       "      <td>0.68</td>\n",
       "    </tr>\n",
       "    <tr>\n",
       "      <th>3</th>\n",
       "      <td>0</td>\n",
       "      <td>5</td>\n",
       "      <td>84.1</td>\n",
       "      <td>0.12</td>\n",
       "    </tr>\n",
       "    <tr>\n",
       "      <th>4</th>\n",
       "      <td>0</td>\n",
       "      <td>8</td>\n",
       "      <td>74.4</td>\n",
       "      <td>0.42</td>\n",
       "    </tr>\n",
       "    <tr>\n",
       "      <th>5</th>\n",
       "      <td>0</td>\n",
       "      <td>15</td>\n",
       "      <td>73.9</td>\n",
       "      <td>0.47</td>\n",
       "    </tr>\n",
       "    <tr>\n",
       "      <th>6</th>\n",
       "      <td>0</td>\n",
       "      <td>25</td>\n",
       "      <td>73.3</td>\n",
       "      <td>1.35</td>\n",
       "    </tr>\n",
       "  </tbody>\n",
       "</table>\n",
       "</div>"
      ],
      "text/plain": [
       "   water_metaal  time  hoek  error\n",
       "0             0     1  55.4   0.58\n",
       "1             0     2  74.8   0.11\n",
       "2             0     3  83.2   0.68\n",
       "3             0     5  84.1   0.12\n",
       "4             0     8  74.4   0.42\n",
       "5             0    15  73.9   0.47\n",
       "6             0    25  73.3   1.35"
      ]
     },
     "execution_count": 29,
     "metadata": {},
     "output_type": "execute_result"
    }
   ],
   "source": [
    "df"
   ]
  },
  {
   "cell_type": "code",
   "execution_count": 30,
   "id": "08cade6e-9c16-4122-8cfd-3c2e50ba6b07",
   "metadata": {},
   "outputs": [],
   "source": [
    "df_list = list()\n",
    "for conc in df[\"water_metaal\"].unique():\n",
    "    df_list.append(df[df[\"water_metaal\"] == conc])"
   ]
  },
  {
   "cell_type": "code",
   "execution_count": 31,
   "id": "e9bb82fc-36e6-4149-9ca2-9ba0b5beb57a",
   "metadata": {},
   "outputs": [],
   "source": [
    "data_dict = dict()\n",
    "for frame in df_list:\n",
    "    time = frame[\"time\"]\n",
    "    angle = frame[\"hoek\"]\n",
    "    error = frame[\"error\"]\n",
    "    data_dict[frame[\"water_metaal\"].unique()[0]] = (time,angle,error)"
   ]
  },
  {
   "cell_type": "code",
   "execution_count": 37,
   "id": "908eefb6-6a8d-407c-8e72-afedc06d7df1",
   "metadata": {},
   "outputs": [
    {
     "data": {
      "image/png": "[encoded data removed]",
      "text/plain": [
       "<Figure size 432x288 with 1 Axes>"
      ]
     },
     "metadata": {
      "needs_background": "light"
     },
     "output_type": "display_data"
    }
   ],
   "source": [
    "for name, values in data_dict.items():\n",
    "    plt.errorbar(values[0],values[1],values[2], linestyle = \"None\", label = f\"{name}%\", marker = \"o\")\n",
    "    \n",
    "plt.legend()\n",
    "plt.xlim(0,40)\n",
    "plt.ylim(0,80)\n",
    "\n",
    "plt.xlabel('time in minutes')\n",
    "plt.ylabel('angle')\n",
    "\n",
    "plt.title('water on steel')\n",
    "plt.savefig('water on steel')"
   ]
  },
  {
   "cell_type": "code",
   "execution_count": 33,
   "id": "31023508-7a5d-4b09-8556-a966687a66d4",
   "metadata": {},
   "outputs": [
    {
     "data": {
      "image/png": "[encoded data removed]",
      "text/plain": [
       "<Figure size 576x864 with 2 Axes>"
      ]
     },
     "metadata": {
      "needs_background": "light"
     },
     "output_type": "display_data"
    }
   ],
   "source": [
    "\n",
    "n_sets = 2\n",
    "\n",
    "fig,ax = plt.subplots(n_sets,1, figsize = (8,12))\n",
    "ax_idx = 0\n",
    "\n",
    "for name, values in data_dict.items():\n",
    "    ax[ax_idx].errorbar(values[0],values[1],values[2], linestyle = \"None\", label = f\"{name}%\", marker = \"o\")\n",
    "    ax[ax_idx].set_xlim(0,40)\n",
    "    ax[ax_idx].set_ylim(0,80)\n",
    "    ax[ax_idx].set_title(f\"CPC solution with {name}% concentration\")\n",
    "    ax_idx += 1\n",
    "\n"
   ]
  },
  {
   "cell_type": "code",
   "execution_count": null,
   "id": "0a507251-3809-4313-aff8-6708b9c74356",
   "metadata": {},
   "outputs": [],
   "source": []
  },
  {
   "cell_type": "code",
   "execution_count": null,
   "id": "99f7c5fb-0ed7-48ba-b571-7b9039d72c0e",
   "metadata": {},
   "outputs": [],
   "source": []
  }
 ],
 "metadata": {
  "kernelspec": {
   "display_name": "Python 3 (ipykernel)",
   "language": "python",
   "name": "python3"
  },
  "language_info": {
   "codemirror_mode": {
    "name": "ipython",
    "version": 3
   },
   "file_extension": ".py",
   "mimetype": "text/x-python",
   "name": "python",
   "nbconvert_exporter": "python",
   "pygments_lexer": "ipython3",
   "version": "3.9.12"
  }
 },
 "nbformat": 4,
 "nbformat_minor": 5
}
