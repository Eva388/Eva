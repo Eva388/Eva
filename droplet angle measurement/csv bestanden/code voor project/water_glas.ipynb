{
 "cells": [
  {
   "cell_type": "code",
   "execution_count": 1,
   "id": "3fbc1087-faa1-41bb-91c3-93eeffb86ece",
   "metadata": {},
   "outputs": [],
   "source": [
    "import pandas as pd\n",
    "import os\n",
    "from os import listdir\n",
    "import numpy as np\n",
    "import matplotlib.pyplot as plt"
   ]
  },
  {
   "cell_type": "code",
   "execution_count": 2,
   "id": "3132c86f-4424-4eb1-ae57-0350985e9f27",
   "metadata": {},
   "outputs": [
    {
     "data": {
      "text/plain": [
       "['.ipynb',\n",
       " '.ipynb_checkpoints',\n",
       " 'code',\n",
       " 'codeplotten.py',\n",
       " 'codetest.py',\n",
       " 'CPC.csv',\n",
       " 'CPC.ipynb',\n",
       " 'Das',\n",
       " 'DOS _0.5_and_1_on_PMDS.csv',\n",
       " 'Dos.csv',\n",
       " 'DOS.ipynb',\n",
       " 'Dos_0.5and_1_on_Steel.csv',\n",
       " 'SDS.csv',\n",
       " 'SDS.ipynb',\n",
       " 'test.py',\n",
       " 'triton.csv',\n",
       " 'Triton.ipynb',\n",
       " 'triton2.csv',\n",
       " 'triton3.csv',\n",
       " 'water_glas.csv',\n",
       " 'water_glas.ipynb',\n",
       " 'water_PDMS.csv',\n",
       " 'water_staal.csv']"
      ]
     },
     "execution_count": 2,
     "metadata": {},
     "output_type": "execute_result"
    }
   ],
   "source": [
    "listdir(\"./\")"
   ]
  },
  {
   "cell_type": "code",
   "execution_count": 3,
   "id": "3d929633-70d4-40d4-955b-e037fc643080",
   "metadata": {},
   "outputs": [
    {
     "data": {
      "text/plain": [
       "array([0], dtype=int64)"
      ]
     },
     "execution_count": 3,
     "metadata": {},
     "output_type": "execute_result"
    }
   ],
   "source": [
    "df = pd.read_csv(\"./water_glas.csv\", sep = \";\")\n",
    "df[\"water_glas\"].unique()"
   ]
  },
  {
   "cell_type": "code",
   "execution_count": 4,
   "id": "09dbb397-66c3-4a82-8146-f67510a13573",
   "metadata": {},
   "outputs": [
    {
     "data": {
      "text/html": [
       "<div>\n",
       "<style scoped>\n",
       "    .dataframe tbody tr th:only-of-type {\n",
       "        vertical-align: middle;\n",
       "    }\n",
       "\n",
       "    .dataframe tbody tr th {\n",
       "        vertical-align: top;\n",
       "    }\n",
       "\n",
       "    .dataframe thead th {\n",
       "        text-align: right;\n",
       "    }\n",
       "</style>\n",
       "<table border=\"1\" class=\"dataframe\">\n",
       "  <thead>\n",
       "    <tr style=\"text-align: right;\">\n",
       "      <th></th>\n",
       "      <th>water_glas</th>\n",
       "      <th>tijd in min</th>\n",
       "      <th>hoek</th>\n",
       "      <th>error</th>\n",
       "    </tr>\n",
       "  </thead>\n",
       "  <tbody>\n",
       "    <tr>\n",
       "      <th>0</th>\n",
       "      <td>0</td>\n",
       "      <td>1</td>\n",
       "      <td>31.1</td>\n",
       "      <td>0.02</td>\n",
       "    </tr>\n",
       "    <tr>\n",
       "      <th>1</th>\n",
       "      <td>0</td>\n",
       "      <td>2</td>\n",
       "      <td>30.5</td>\n",
       "      <td>0.02</td>\n",
       "    </tr>\n",
       "    <tr>\n",
       "      <th>2</th>\n",
       "      <td>0</td>\n",
       "      <td>3</td>\n",
       "      <td>30.3</td>\n",
       "      <td>0.02</td>\n",
       "    </tr>\n",
       "    <tr>\n",
       "      <th>3</th>\n",
       "      <td>0</td>\n",
       "      <td>5</td>\n",
       "      <td>30.0</td>\n",
       "      <td>0.06</td>\n",
       "    </tr>\n",
       "    <tr>\n",
       "      <th>4</th>\n",
       "      <td>0</td>\n",
       "      <td>8</td>\n",
       "      <td>29.6</td>\n",
       "      <td>0.02</td>\n",
       "    </tr>\n",
       "    <tr>\n",
       "      <th>5</th>\n",
       "      <td>0</td>\n",
       "      <td>15</td>\n",
       "      <td>29.4</td>\n",
       "      <td>0.01</td>\n",
       "    </tr>\n",
       "    <tr>\n",
       "      <th>6</th>\n",
       "      <td>0</td>\n",
       "      <td>25</td>\n",
       "      <td>28.8</td>\n",
       "      <td>0.08</td>\n",
       "    </tr>\n",
       "  </tbody>\n",
       "</table>\n",
       "</div>"
      ],
      "text/plain": [
       "   water_glas  tijd in min  hoek  error\n",
       "0           0            1  31.1   0.02\n",
       "1           0            2  30.5   0.02\n",
       "2           0            3  30.3   0.02\n",
       "3           0            5  30.0   0.06\n",
       "4           0            8  29.6   0.02\n",
       "5           0           15  29.4   0.01\n",
       "6           0           25  28.8   0.08"
      ]
     },
     "execution_count": 4,
     "metadata": {},
     "output_type": "execute_result"
    }
   ],
   "source": [
    "df"
   ]
  },
  {
   "cell_type": "code",
   "execution_count": 5,
   "id": "08cade6e-9c16-4122-8cfd-3c2e50ba6b07",
   "metadata": {},
   "outputs": [],
   "source": [
    "df_list = list()\n",
    "for conc in df[\"water_glas\"].unique():\n",
    "    df_list.append(df[df[\"water_glas\"] == conc])"
   ]
  },
  {
   "cell_type": "code",
   "execution_count": 6,
   "id": "e9bb82fc-36e6-4149-9ca2-9ba0b5beb57a",
   "metadata": {},
   "outputs": [],
   "source": [
    "data_dict = dict()\n",
    "for frame in df_list:\n",
    "    time = frame[\"tijd in min\"]\n",
    "    angle = frame[\"hoek\"]\n",
    "    error = frame[\"error\"]\n",
    "    data_dict[frame[\"water_glas\"].unique()[0]] = (time,angle,error)"
   ]
  },
  {
   "cell_type": "code",
   "execution_count": 19,
   "id": "908eefb6-6a8d-407c-8e72-afedc06d7df1",
   "metadata": {},
   "outputs": [
    {
     "data": {
      "image/png": "[encoded data removed]",
      "text/plain": [
       "<Figure size 432x288 with 1 Axes>"
      ]
     },
     "metadata": {
      "needs_background": "light"
     },
     "output_type": "display_data"
    }
   ],
   "source": [
    "for name, values in data_dict.items():\n",
    "    plt.errorbar(values[0],values[1],values[2], linestyle = \"None\", label = f\"{name}%\", marker = \"o\")\n",
    "    \n",
    "plt.legend()\n",
    "plt.xlim(0,70)\n",
    "plt.ylim(0,40)\n",
    "\n",
    "plt.xlabel('time in minutes')\n",
    "plt.ylabel('angle')\n",
    "\n",
    "plt.title('water on glas')\n",
    "plt.savefig('water on glas')"
   ]
  },
  {
   "cell_type": "code",
   "execution_count": 17,
   "id": "31023508-7a5d-4b09-8556-a966687a66d4",
   "metadata": {},
   "outputs": [
    {
     "data": {
      "image/png": "[encoded data removed]",
      "text/plain": [
       "<Figure size 576x864 with 2 Axes>"
      ]
     },
     "metadata": {
      "needs_background": "light"
     },
     "output_type": "display_data"
    }
   ],
   "source": [
    "n_sets = 2\n",
    "\n",
    "fig,ax = plt.subplots(n_sets,1, figsize = (8,12))\n",
    "ax_idx = 0\n",
    "\n",
    "for name, values in data_dict.items():\n",
    "    ax[ax_idx].errorbar(values[0],values[1],values[2], linestyle = \"None\", label = f\"{name}%\", marker = \"o\")\n",
    "    ax[ax_idx].set_xlim(0,30)\n",
    "    ax[ax_idx].set_ylim(0,40)\n",
    "    ax[ax_idx].set_title(f\"water_glas solution with {name}% concentration\")\n",
    "    ax_idx += 1\n",
    "\n"
   ]
  },
  {
   "cell_type": "code",
   "execution_count": null,
   "id": "0a507251-3809-4313-aff8-6708b9c74356",
   "metadata": {},
   "outputs": [],
   "source": []
  }
 ],
 "metadata": {
  "kernelspec": {
   "display_name": "Python 3 (ipykernel)",
   "language": "python",
   "name": "python3"
  },
  "language_info": {
   "codemirror_mode": {
    "name": "ipython",
    "version": 3
   },
   "file_extension": ".py",
   "mimetype": "text/x-python",
   "name": "python",
   "nbconvert_exporter": "python",
   "pygments_lexer": "ipython3",
   "version": "3.9.12"
  }
 },
 "nbformat": 4,
 "nbformat_minor": 5
}
