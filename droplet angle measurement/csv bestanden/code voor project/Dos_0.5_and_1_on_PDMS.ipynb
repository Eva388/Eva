{
 "cells": [
  {
   "cell_type": "code",
   "execution_count": 35,
   "id": "3fbc1087-faa1-41bb-91c3-93eeffb86ece",
   "metadata": {},
   "outputs": [],
   "source": [
    "import pandas as pd\n",
    "import os\n",
    "from os import listdir\n",
    "import numpy as np\n",
    "import matplotlib.pyplot as plt"
   ]
  },
  {
   "cell_type": "code",
   "execution_count": 36,
   "id": "3132c86f-4424-4eb1-ae57-0350985e9f27",
   "metadata": {},
   "outputs": [
    {
     "data": {
      "text/plain": [
       "['.ipynb',\n",
       " '.ipynb_checkpoints',\n",
       " 'code',\n",
       " 'codeplotten.py',\n",
       " 'codetest.py',\n",
       " 'CPC.csv',\n",
       " 'CPC.ipynb',\n",
       " 'Das',\n",
       " 'DOS _0.5_and_1_on_PMDS.csv',\n",
       " 'Dos.csv',\n",
       " 'DOS.ipynb',\n",
       " 'Dos_0.5and_1_on_Steel.csv',\n",
       " 'Dos_0.5_and_1_on_PDMS.ipynb',\n",
       " 'Dos_0.5_and_1_on_Steel_no_comments.csv',\n",
       " 'DOS_staal_0.5_and_1.ipynb',\n",
       " 'SDS.csv',\n",
       " 'SDS.ipynb',\n",
       " 'test.py',\n",
       " 'triton.csv',\n",
       " 'Triton.ipynb',\n",
       " 'triton2.csv',\n",
       " 'triton3.csv',\n",
       " 'water_glas.csv',\n",
       " 'water_glas.ipynb',\n",
       " 'water_PDMS.csv',\n",
       " 'water_staal.csv']"
      ]
     },
     "execution_count": 36,
     "metadata": {},
     "output_type": "execute_result"
    }
   ],
   "source": [
    "listdir(\"./\")"
   ]
  },
  {
   "cell_type": "code",
   "execution_count": 37,
   "id": "3d929633-70d4-40d4-955b-e037fc643080",
   "metadata": {},
   "outputs": [
    {
     "data": {
      "text/plain": [
       "array([0.5, 1. ])"
      ]
     },
     "execution_count": 37,
     "metadata": {},
     "output_type": "execute_result"
    }
   ],
   "source": [
    "df = pd.read_csv(\"./DOS _0.5_and_1_on_PMDS.csv\", sep = \";\")\n",
    "df[\"DOS_PMDS\"].unique()"
   ]
  },
  {
   "cell_type": "code",
   "execution_count": 38,
   "id": "09dbb397-66c3-4a82-8146-f67510a13573",
   "metadata": {},
   "outputs": [
    {
     "data": {
      "text/html": [
       "<div>\n",
       "<style scoped>\n",
       "    .dataframe tbody tr th:only-of-type {\n",
       "        vertical-align: middle;\n",
       "    }\n",
       "\n",
       "    .dataframe tbody tr th {\n",
       "        vertical-align: top;\n",
       "    }\n",
       "\n",
       "    .dataframe thead th {\n",
       "        text-align: right;\n",
       "    }\n",
       "</style>\n",
       "<table border=\"1\" class=\"dataframe\">\n",
       "  <thead>\n",
       "    <tr style=\"text-align: right;\">\n",
       "      <th></th>\n",
       "      <th>DOS_PMDS</th>\n",
       "      <th>tijd</th>\n",
       "      <th>hoek</th>\n",
       "      <th>error</th>\n",
       "    </tr>\n",
       "  </thead>\n",
       "  <tbody>\n",
       "    <tr>\n",
       "      <th>0</th>\n",
       "      <td>0.5</td>\n",
       "      <td>2</td>\n",
       "      <td>85.2</td>\n",
       "      <td>0.11</td>\n",
       "    </tr>\n",
       "    <tr>\n",
       "      <th>1</th>\n",
       "      <td>0.5</td>\n",
       "      <td>4</td>\n",
       "      <td>82.8</td>\n",
       "      <td>0.18</td>\n",
       "    </tr>\n",
       "    <tr>\n",
       "      <th>2</th>\n",
       "      <td>0.5</td>\n",
       "      <td>6</td>\n",
       "      <td>80.7</td>\n",
       "      <td>0.37</td>\n",
       "    </tr>\n",
       "    <tr>\n",
       "      <th>3</th>\n",
       "      <td>0.5</td>\n",
       "      <td>8</td>\n",
       "      <td>78.8</td>\n",
       "      <td>0.50</td>\n",
       "    </tr>\n",
       "    <tr>\n",
       "      <th>4</th>\n",
       "      <td>0.5</td>\n",
       "      <td>10</td>\n",
       "      <td>75.6</td>\n",
       "      <td>1.04</td>\n",
       "    </tr>\n",
       "    <tr>\n",
       "      <th>5</th>\n",
       "      <td>0.5</td>\n",
       "      <td>15</td>\n",
       "      <td>75.3</td>\n",
       "      <td>0.11</td>\n",
       "    </tr>\n",
       "    <tr>\n",
       "      <th>6</th>\n",
       "      <td>0.5</td>\n",
       "      <td>20</td>\n",
       "      <td>74.1</td>\n",
       "      <td>0.14</td>\n",
       "    </tr>\n",
       "    <tr>\n",
       "      <th>7</th>\n",
       "      <td>0.5</td>\n",
       "      <td>25</td>\n",
       "      <td>72.9</td>\n",
       "      <td>0.13</td>\n",
       "    </tr>\n",
       "    <tr>\n",
       "      <th>8</th>\n",
       "      <td>0.5</td>\n",
       "      <td>60</td>\n",
       "      <td>69.3</td>\n",
       "      <td>0.27</td>\n",
       "    </tr>\n",
       "    <tr>\n",
       "      <th>9</th>\n",
       "      <td>1.0</td>\n",
       "      <td>2</td>\n",
       "      <td>65.2</td>\n",
       "      <td>0.04</td>\n",
       "    </tr>\n",
       "    <tr>\n",
       "      <th>10</th>\n",
       "      <td>1.0</td>\n",
       "      <td>4</td>\n",
       "      <td>60.6</td>\n",
       "      <td>0.26</td>\n",
       "    </tr>\n",
       "    <tr>\n",
       "      <th>11</th>\n",
       "      <td>1.0</td>\n",
       "      <td>6</td>\n",
       "      <td>57.3</td>\n",
       "      <td>0.12</td>\n",
       "    </tr>\n",
       "    <tr>\n",
       "      <th>12</th>\n",
       "      <td>1.0</td>\n",
       "      <td>8</td>\n",
       "      <td>55.0</td>\n",
       "      <td>0.02</td>\n",
       "    </tr>\n",
       "    <tr>\n",
       "      <th>13</th>\n",
       "      <td>1.0</td>\n",
       "      <td>10</td>\n",
       "      <td>53.7</td>\n",
       "      <td>0.22</td>\n",
       "    </tr>\n",
       "    <tr>\n",
       "      <th>14</th>\n",
       "      <td>1.0</td>\n",
       "      <td>15</td>\n",
       "      <td>52.8</td>\n",
       "      <td>0.32</td>\n",
       "    </tr>\n",
       "    <tr>\n",
       "      <th>15</th>\n",
       "      <td>1.0</td>\n",
       "      <td>20</td>\n",
       "      <td>51.9</td>\n",
       "      <td>0.11</td>\n",
       "    </tr>\n",
       "    <tr>\n",
       "      <th>16</th>\n",
       "      <td>1.0</td>\n",
       "      <td>25</td>\n",
       "      <td>51.4</td>\n",
       "      <td>0.19</td>\n",
       "    </tr>\n",
       "    <tr>\n",
       "      <th>17</th>\n",
       "      <td>1.0</td>\n",
       "      <td>60</td>\n",
       "      <td>49.4</td>\n",
       "      <td>0.02</td>\n",
       "    </tr>\n",
       "  </tbody>\n",
       "</table>\n",
       "</div>"
      ],
      "text/plain": [
       "    DOS_PMDS  tijd  hoek  error\n",
       "0        0.5     2  85.2   0.11\n",
       "1        0.5     4  82.8   0.18\n",
       "2        0.5     6  80.7   0.37\n",
       "3        0.5     8  78.8   0.50\n",
       "4        0.5    10  75.6   1.04\n",
       "5        0.5    15  75.3   0.11\n",
       "6        0.5    20  74.1   0.14\n",
       "7        0.5    25  72.9   0.13\n",
       "8        0.5    60  69.3   0.27\n",
       "9        1.0     2  65.2   0.04\n",
       "10       1.0     4  60.6   0.26\n",
       "11       1.0     6  57.3   0.12\n",
       "12       1.0     8  55.0   0.02\n",
       "13       1.0    10  53.7   0.22\n",
       "14       1.0    15  52.8   0.32\n",
       "15       1.0    20  51.9   0.11\n",
       "16       1.0    25  51.4   0.19\n",
       "17       1.0    60  49.4   0.02"
      ]
     },
     "execution_count": 38,
     "metadata": {},
     "output_type": "execute_result"
    }
   ],
   "source": [
    "df"
   ]
  },
  {
   "cell_type": "code",
   "execution_count": 46,
   "id": "08cade6e-9c16-4122-8cfd-3c2e50ba6b07",
   "metadata": {},
   "outputs": [],
   "source": [
    "df_list = list()\n",
    "for conc in df[\"DOS_PMDS\"].unique():\n",
    "    df_list.append(df[df[\"DOS_PMDS\"] == conc])"
   ]
  },
  {
   "cell_type": "code",
   "execution_count": 48,
   "id": "e9bb82fc-36e6-4149-9ca2-9ba0b5beb57a",
   "metadata": {},
   "outputs": [],
   "source": [
    "data_dict = dict()\n",
    "for frame in df_list:\n",
    "    time = frame[\"tijd\"]\n",
    "    angle = frame[\"hoek\"]\n",
    "    error = frame[\"error\"]\n",
    "    data_dict[frame[\"DOS_PMDS\"].unique()[0]] = (time,angle,error)"
   ]
  },
  {
   "cell_type": "code",
   "execution_count": 54,
   "id": "908eefb6-6a8d-407c-8e72-afedc06d7df1",
   "metadata": {},
   "outputs": [
    {
     "data": {
      "image/png": "[encoded data removed]",
      "text/plain": [
       "<Figure size 432x288 with 1 Axes>"
      ]
     },
     "metadata": {
      "needs_background": "light"
     },
     "output_type": "display_data"
    }
   ],
   "source": [
    "for name, values in data_dict.items():\n",
    "    plt.errorbar(values[0],values[1],values[2], linestyle = \"None\", label = f\"{name}%\", marker = \"o\")\n",
    "    \n",
    "plt.legend()\n",
    "plt.xlim(0,70)\n",
    "plt.ylim(0,90)\n",
    "\n",
    "plt.xlabel('time in minutes')\n",
    "plt.ylabel('angle')\n",
    "\n",
    "\n",
    "plt.title('DOSS on PDMS')\n",
    "plt.savefig('DOSS on PDMS')"
   ]
  },
  {
   "cell_type": "code",
   "execution_count": 51,
   "id": "31023508-7a5d-4b09-8556-a966687a66d4",
   "metadata": {},
   "outputs": [
    {
     "data": {
      "image/png": "[encoded data removed]",
      "text/plain": [
       "<Figure size 576x864 with 2 Axes>"
      ]
     },
     "metadata": {
      "needs_background": "light"
     },
     "output_type": "display_data"
    }
   ],
   "source": [
    "n_sets = 2\n",
    "\n",
    "fig,ax = plt.subplots(n_sets,1, figsize = (8,12))\n",
    "ax_idx = 0\n",
    "\n",
    "for name, values in data_dict.items():\n",
    "    ax[ax_idx].errorbar(values[0],values[1],values[2], linestyle = \"None\", label = f\"{name}%\", marker = \"o\")\n",
    "    ax[ax_idx].set_xlim(0,70)\n",
    "    ax[ax_idx].set_ylim(0,90)\n",
    "    ax[ax_idx].set_title(f\"SDS solution with {name}% concentration\")\n",
    "    ax_idx += 1\n",
    "\n"
   ]
  },
  {
   "cell_type": "code",
   "execution_count": null,
   "id": "af148d4a-2e64-4173-9658-19609bb84e3c",
   "metadata": {},
   "outputs": [],
   "source": []
  }
 ],
 "metadata": {
  "kernelspec": {
   "display_name": "Python 3 (ipykernel)",
   "language": "python",
   "name": "python3"
  },
  "language_info": {
   "codemirror_mode": {
    "name": "ipython",
    "version": 3
   },
   "file_extension": ".py",
   "mimetype": "text/x-python",
   "name": "python",
   "nbconvert_exporter": "python",
   "pygments_lexer": "ipython3",
   "version": "3.9.12"
  }
 },
 "nbformat": 4,
 "nbformat_minor": 5
}
