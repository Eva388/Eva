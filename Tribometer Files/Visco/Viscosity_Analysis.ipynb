{
 "cells": [
  {
   "cell_type": "code",
   "execution_count": 37,
   "id": "9c6ba930-852e-4f09-a2c4-0be913b343ed",
   "metadata": {},
   "outputs": [],
   "source": [
    "import os\n",
    "from os import listdir\n",
    "import pandas as pd\n",
    "import numpy as np\n",
    "import lmfit as lm\n",
    "import matplotlib.pyplot as plt"
   ]
  },
  {
   "cell_type": "code",
   "execution_count": 9,
   "id": "3109ce9f-fda2-4434-8211-b3ae85ba2adf",
   "metadata": {},
   "outputs": [],
   "source": [
    "path = \"C:/Users/Kevin/Desktop/NS project/Files/Visco/Data/\"\n",
    "out = \"C:/Users/Kevin/Desktop/NS project/Files/Visco/output/\" "
   ]
  },
  {
   "cell_type": "code",
   "execution_count": 30,
   "id": "8195e60a-5ed8-4a36-bddc-bdc30bcbc768",
   "metadata": {},
   "outputs": [],
   "source": [
    "df_list = list()\n",
    "for file in listdir(out)[0:4]:\n",
    "    temp = pd.read_csv(out + file)\n",
    "    temp[\"Shear Rate\"] = temp[\"Shear Rate\"].apply(lambda x: x.replace(\",\",\".\"))\n",
    "    temp = temp.astype(\"float64\")\n",
    "    \n",
    "    temp[\"Shear Rate\"] = np.log(temp[\"Shear Rate\"])\n",
    "    temp[\"Shear Stress\"] = np.log(temp[\"Shear Stress\"])\n",
    "    temp[\"Viscosity\"] = np.log(temp[\"Viscosity\"])\n",
    "    \n",
    "    df_list.append(temp)\n",
    "    "
   ]
  },
  {
   "cell_type": "code",
   "execution_count": null,
   "id": "a6e88068-9012-4171-b88f-672dccedb972",
   "metadata": {},
   "outputs": [],
   "source": []
  },
  {
   "cell_type": "code",
   "execution_count": 33,
   "id": "3686f6a5-9380-446f-a3ae-89d74a4438a9",
   "metadata": {
    "tags": []
   },
   "outputs": [
    {
     "data": {
      "text/plain": [
       "Index(['Meas. Pts.', 'Shear Rate', 'Shear Stress', 'Viscosity'], dtype='object')"
      ]
     },
     "execution_count": 33,
     "metadata": {},
     "output_type": "execute_result"
    }
   ],
   "source": [
    "df_list[0].columns"
   ]
  },
  {
   "cell_type": "code",
   "execution_count": 71,
   "id": "1f3dbe40-ce56-4786-a446-a3a7a4c6694d",
   "metadata": {},
   "outputs": [],
   "source": [
    "names = [\"0.5\",\"1.0\",\"3.0\",\"5.0\"]\n",
    "idx = 0\n",
    "data = dict()\n",
    "for df in df_list:\n",
    "    values = (df[\"Shear Stress\"],df[\"Viscosity\"],df[\"Shear Rate\"])\n",
    "    data[names[idx]] = values\n",
    "    idx +=1\n",
    "    \n",
    "    "
   ]
  },
  {
   "cell_type": "code",
   "execution_count": 72,
   "id": "3fd0b30a-2415-4724-a8a3-1f154670b32d",
   "metadata": {},
   "outputs": [],
   "source": [
    "def fit_func(visc,rate,n = 1):\n",
    "    return visc + n * rate"
   ]
  },
  {
   "cell_type": "code",
   "execution_count": 73,
   "id": "3da8a4eb-242b-4ab6-9f4e-404c4df0612a",
   "metadata": {},
   "outputs": [
    {
     "data": {
      "text/plain": [
       "['visc', 'rate']"
      ]
     },
     "execution_count": 73,
     "metadata": {},
     "output_type": "execute_result"
    }
   ],
   "source": [
    "model = lm.Model(fit_func,independent_vars=['visc', 'rate'])\n",
    "model.independent_vars"
   ]
  },
  {
   "cell_type": "markdown",
   "id": "4ea21f2c-3597-44f3-800b-220d56a3a51f",
   "metadata": {},
   "source": [
    "## 0.5%"
   ]
  },
  {
   "cell_type": "code",
   "execution_count": 81,
   "id": "e0c4fb1b-d5c4-47fc-b748-c476f0236740",
   "metadata": {},
   "outputs": [
    {
     "name": "stdout",
     "output_type": "stream",
     "text": [
      "DATA ON 0.5%\n",
      "[[Model]]\n",
      "    Model(fit_func)\n",
      "[[Fit Statistics]]\n",
      "    # fitting method   = leastsq\n",
      "    # function evals   = 3\n",
      "    # data points      = 20\n",
      "    # variables        = 1\n",
      "    chi-square         = 47.7171478\n",
      "    reduced chi-square = 2.51142883\n",
      "    Akaike info crit   = 19.3911711\n",
      "    Bayesian info crit = 20.3869033\n",
      "    R-squared          = -4.40630304\n",
      "[[Variables]]\n",
      "    n:  1.00002330 +/- 0.06340094 (6.34%) (init = 1)\n"
     ]
    }
   ],
   "source": [
    "test = data[\"0.5\"]\n",
    "wt = [1] * len(test[0])\n",
    "\n",
    "res = model.fit(test[0],visc = test[1], rate = test[2], weights = wt, n = 1)\n",
    "print(\"DATA ON 0.5%\")\n",
    "print(res.fit_report())"
   ]
  },
  {
   "cell_type": "markdown",
   "id": "de3117af-c2d9-4054-b5cc-ae5b80465c94",
   "metadata": {},
   "source": [
    "## 1.0%"
   ]
  },
  {
   "cell_type": "code",
   "execution_count": 79,
   "id": "2867dd44-bd05-41f1-a9fa-c3a26004c428",
   "metadata": {},
   "outputs": [
    {
     "name": "stdout",
     "output_type": "stream",
     "text": [
      "DATA ON 1.0%\n",
      "[[Model]]\n",
      "    Model(fit_func)\n",
      "[[Fit Statistics]]\n",
      "    # fitting method   = leastsq\n",
      "    # function evals   = 3\n",
      "    # data points      = 20\n",
      "    # variables        = 1\n",
      "    chi-square         = 47.7171325\n",
      "    reduced chi-square = 2.51142803\n",
      "    Akaike info crit   = 19.3911646\n",
      "    Bayesian info crit = 20.3868969\n",
      "    R-squared          = -4.60809317\n",
      "[[Variables]]\n",
      "    n:  0.99999663 +/- 0.06340093 (6.34%) (init = 1)\n"
     ]
    }
   ],
   "source": [
    "test = data[\"1.0\"]\n",
    "wt = [1] * len(test[0])\n",
    "\n",
    "res = model.fit(test[0],visc = test[1], rate = test[2], weights = wt, n = 1)\n",
    "print(\"DATA ON 1.0%\")\n",
    "print(res.fit_report())"
   ]
  },
  {
   "cell_type": "markdown",
   "id": "c7b3f145-8d8d-4225-b44f-44b0b7fedc76",
   "metadata": {},
   "source": [
    "## 3.0%"
   ]
  },
  {
   "cell_type": "code",
   "execution_count": 84,
   "id": "db7d86f3-7b1a-44ee-aa2e-52ac945ad2d8",
   "metadata": {},
   "outputs": [
    {
     "name": "stdout",
     "output_type": "stream",
     "text": [
      "DATA ON 3.0%\n",
      "[[Model]]\n",
      "    Model(fit_func)\n",
      "[[Fit Statistics]]\n",
      "    # fitting method   = leastsq\n",
      "    # function evals   = 5\n",
      "    # data points      = 20\n",
      "    # variables        = 1\n",
      "    chi-square         = 47.7171751\n",
      "    reduced chi-square = 2.51143027\n",
      "    Akaike info crit   = 19.3911825\n",
      "    Bayesian info crit = 20.3869148\n",
      "    R-squared          = -4.38685610\n",
      "[[Variables]]\n",
      "    n:  1.00003784 +/- 0.06340096 (6.34%) (init = 1)\n"
     ]
    }
   ],
   "source": [
    "test = data[\"3.0\"]\n",
    "wt = [1] * len(test[0])\n",
    "\n",
    "res = model.fit(test[0],visc = test[1], rate = test[2], weights = wt, n = 1)\n",
    "print(\"DATA ON 3.0%\")\n",
    "print(res.fit_report())"
   ]
  },
  {
   "cell_type": "markdown",
   "id": "46f0620f-a279-4133-8880-9dff07a91339",
   "metadata": {},
   "source": [
    "## 5.0%"
   ]
  },
  {
   "cell_type": "code",
   "execution_count": 82,
   "id": "16bb8d66-3ed2-4030-bed3-a8f9a6d700d9",
   "metadata": {},
   "outputs": [
    {
     "name": "stdout",
     "output_type": "stream",
     "text": [
      "DATA ON 5.0%\n",
      "[[Model]]\n",
      "    Model(fit_func)\n",
      "[[Fit Statistics]]\n",
      "    # fitting method   = leastsq\n",
      "    # function evals   = 3\n",
      "    # data points      = 20\n",
      "    # variables        = 1\n",
      "    chi-square         = 47.7171232\n",
      "    reduced chi-square = 2.51142754\n",
      "    Akaike info crit   = 19.3911607\n",
      "    Bayesian info crit = 20.3868930\n",
      "    R-squared          = -4.44052061\n",
      "[[Variables]]\n",
      "    n:  0.99999802 +/- 0.06340093 (6.34%) (init = 1)\n"
     ]
    }
   ],
   "source": [
    "test = data[\"5.0\"]\n",
    "wt = [1] * len(test[0])\n",
    "\n",
    "res = model.fit(test[0],visc = test[1], rate = test[2], weights = wt, n = 1)\n",
    "print(\"DATA ON 5.0%\")\n",
    "print(res.fit_report())"
   ]
  },
  {
   "cell_type": "code",
   "execution_count": null,
   "id": "ba492bb5-a226-42e5-82f9-4db0301081d9",
   "metadata": {},
   "outputs": [],
   "source": []
  },
  {
   "cell_type": "code",
   "execution_count": null,
   "id": "a94df1de-7188-4da1-91ae-7a566cdcc55d",
   "metadata": {},
   "outputs": [],
   "source": []
  },
  {
   "cell_type": "markdown",
   "id": "892cf29d-a0b1-47ad-9558-025bef4ce3ad",
   "metadata": {},
   "source": [
    "## datasets"
   ]
  },
  {
   "cell_type": "code",
   "execution_count": 83,
   "id": "d7b91c26-0071-4ce2-bdf1-e98cdb078389",
   "metadata": {},
   "outputs": [
    {
     "data": {
      "text/plain": [
       "[    Meas. Pts.  Shear Rate  Shear Stress  Viscosity\n",
       " 0          1.0    4.605170      1.761300  -2.843870\n",
       " 1          2.0    4.727388      1.865629  -2.861201\n",
       " 2          3.0    4.844187      1.953028  -2.894982\n",
       " 3          4.0    4.969813      2.054124  -2.915074\n",
       " 4          5.0    5.087596      2.159869  -2.929945\n",
       " 5          6.0    5.209486      2.269028  -2.943140\n",
       " 6          7.0    5.332719      2.379546  -2.950759\n",
       " 7          8.0    5.455321      2.493205  -2.962297\n",
       " 8          9.0    5.575949      2.610070  -2.964234\n",
       " 9         10.0    5.697093      2.734368  -2.964234\n",
       " 10        11.0    5.817111      2.850707  -2.970065\n",
       " 11        12.0    5.937536      2.965273  -2.973971\n",
       " 12        13.0    6.059123      3.081910  -2.975930\n",
       " 13        14.0    6.180017      3.202746  -2.975930\n",
       " 14        15.0    6.302619      3.325036  -2.977892\n",
       " 15        16.0    6.423247      3.443618  -2.977892\n",
       " 16        17.0    6.543912      3.563883  -2.979859\n",
       " 17        18.0    6.665684      3.683867  -2.979859\n",
       " 18        19.0    6.786717      3.804438  -2.981829\n",
       " 19        20.0    0.000000      3.923952  -2.983804,\n",
       "     Meas. Pts.  Shear Rate  Shear Stress  Viscosity\n",
       " 0          1.0    4.605170      1.887070  -2.718101\n",
       " 1          2.0    4.727388      2.006871  -2.719617\n",
       " 2          3.0    4.844187      2.112635  -2.734908\n",
       " 3          4.0    4.969813      2.217027  -2.752002\n",
       " 4          5.0    5.087596      2.322388  -2.766209\n",
       " 5          6.0    5.209486      2.424803  -2.785471\n",
       " 6          7.0    5.332719      2.533697  -2.798522\n",
       " 7          8.0    5.455321      2.646175  -2.806766\n",
       " 8          9.0    5.575949      2.753661  -2.818423\n",
       " 9         10.0    5.697093      2.873565  -2.823461\n",
       " 10        11.0    5.817111      2.990720  -2.828524\n",
       " 11        12.0    5.937536      3.100092  -2.837021\n",
       " 12        13.0    6.059123      3.218876  -2.840439\n",
       " 13        14.0    6.180017      3.335770  -2.845590\n",
       " 14        15.0    6.302619      3.449988  -2.850767\n",
       " 15        16.0    6.423247      3.569533  -2.854233\n",
       " 16        17.0    6.543912      3.686376  -2.859455\n",
       " 17        18.0    6.665684      3.802208  -2.862951\n",
       " 18        19.0    6.786717      3.919991  -2.866460\n",
       " 19        20.0    0.000000      4.037774  -2.869981,\n",
       "     Meas. Pts.  Shear Rate  Shear Stress  Viscosity\n",
       " 0          1.0    4.605170      1.871802  -2.733368\n",
       " 1          2.0    4.727388      1.985131  -2.741090\n",
       " 2          3.0    4.844187      2.099244  -2.748872\n",
       " 3          4.0    4.969813      2.211566  -2.756715\n",
       " 4          5.0    5.087596      2.322388  -2.766209\n",
       " 5          6.0    5.209486      2.442347  -2.772589\n",
       " 6          7.0    5.332719      2.557227  -2.779009\n",
       " 7          8.0    5.455321      2.667228  -2.783852\n",
       " 8          9.0    5.575949      2.785011  -2.790345\n",
       " 9         10.0    5.697093      2.895912  -2.800165\n",
       " 10        11.0    5.817111      3.010621  -2.805112\n",
       " 11        12.0    5.937536      3.126761  -2.813411\n",
       " 12        13.0    6.059123      3.242592  -2.816750\n",
       " 13        14.0    6.180017      3.360375  -2.820100\n",
       " 14        15.0    6.302619      3.478158  -2.823461\n",
       " 15        16.0    6.423247      3.594569  -2.828524\n",
       " 16        17.0    6.543912      3.711130  -2.831914\n",
       " 17        18.0    6.665684      3.830813  -2.835316\n",
       " 18        19.0    6.786717      3.947390  -2.838729\n",
       " 19        20.0    0.000000      4.067316  -2.840439,\n",
       "     Meas. Pts.  Shear Rate  Shear Stress  Viscosity\n",
       " 0          1.0    4.605170      1.996060  -2.609110\n",
       " 1          2.0    4.727388      2.096790  -2.629701\n",
       " 2          3.0    4.844187      2.201659  -2.646485\n",
       " 3          4.0    4.969813      2.312535  -2.657832\n",
       " 4          5.0    5.087596      2.415914  -2.673649\n",
       " 5          6.0    5.209486      2.525729  -2.683846\n",
       " 6          7.0    5.332719      2.639057  -2.691193\n",
       " 7          8.0    5.455321      2.753661  -2.698595\n",
       " 8          9.0    5.575949      2.873565  -2.701571\n",
       " 9         10.0    5.697093      2.985682  -2.712058\n",
       " 10        11.0    5.817111      3.100092  -2.716587\n",
       " 11        12.0    5.937536      3.210844  -2.725705\n",
       " 12        13.0    6.059123      3.328627  -2.730296\n",
       " 13        14.0    6.180017      3.446808  -2.733368\n",
       " 14        15.0    6.302619      3.566712  -2.736450\n",
       " 15        16.0    6.423247      3.683867  -2.739541\n",
       " 16        17.0    6.543912      3.802208  -2.741090\n",
       " 17        18.0    6.665684      3.921973  -2.744196\n",
       " 18        19.0    6.786717      4.046554  -2.741090\n",
       " 19        20.0    0.000000      4.175925  -2.731831]"
      ]
     },
     "execution_count": 83,
     "metadata": {},
     "output_type": "execute_result"
    }
   ],
   "source": [
    "df_list "
   ]
  },
  {
   "cell_type": "code",
   "execution_count": null,
   "id": "2bb19398-f39c-4432-b6ee-be6444b3a553",
   "metadata": {},
   "outputs": [],
   "source": []
  }
 ],
 "metadata": {
  "kernelspec": {
   "display_name": "Python 3 (ipykernel)",
   "language": "python",
   "name": "python3"
  },
  "language_info": {
   "codemirror_mode": {
    "name": "ipython",
    "version": 3
   },
   "file_extension": ".py",
   "mimetype": "text/x-python",
   "name": "python",
   "nbconvert_exporter": "python",
   "pygments_lexer": "ipython3",
   "version": "3.8.8"
  }
 },
 "nbformat": 4,
 "nbformat_minor": 5
}
