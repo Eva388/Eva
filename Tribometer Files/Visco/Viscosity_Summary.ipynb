{
 "cells": [
  {
   "cell_type": "code",
   "execution_count": 3,
   "id": "dd55f3ba-75fd-48c2-a26a-cbb012e0a58d",
   "metadata": {},
   "outputs": [],
   "source": [
    "import os\n",
    "from os import listdir\n",
    "import pandas as pd\n",
    "import numpy as np\n",
    "import lmfit as lm\n",
    "import matplotlib.pyplot as plt"
   ]
  },
  {
   "cell_type": "code",
   "execution_count": 4,
   "id": "d572db89-de40-4436-848f-9c2c7f14ce6a",
   "metadata": {},
   "outputs": [],
   "source": [
    "path = \"C:/Users/Kevin/Desktop/NS project/Files/Visco/output/\" "
   ]
  },
  {
   "cell_type": "code",
   "execution_count": 6,
   "id": "0ae4b9ee-6621-4428-a641-732920a4d95a",
   "metadata": {},
   "outputs": [
    {
     "data": {
      "text/plain": [
       "['CTAB_0.5.txt',\n",
       " 'CTAB_1.0.txt',\n",
       " 'CTAB_3.0.txt',\n",
       " 'CTAB_5.0.txt',\n",
       " 'Triton_0.5.txt',\n",
       " 'Triton_1.0.txt',\n",
       " 'Triton_3.0.txt',\n",
       " 'Triton_5.0.txt']"
      ]
     },
     "execution_count": 6,
     "metadata": {},
     "output_type": "execute_result"
    }
   ],
   "source": [
    "listdir(path)[1:]"
   ]
  },
  {
   "cell_type": "code",
   "execution_count": 10,
   "id": "112c06cb-66b8-4780-8ca6-23086f245eb7",
   "metadata": {},
   "outputs": [],
   "source": [
    "test = pd.read_csv(path+listdir(path)[1:][0])"
   ]
  },
  {
   "cell_type": "code",
   "execution_count": 15,
   "id": "b02514c4-e057-482d-bcc7-8dd9efc90b41",
   "metadata": {},
   "outputs": [
    {
     "data": {
      "text/html": [
       "<div>\n",
       "<style scoped>\n",
       "    .dataframe tbody tr th:only-of-type {\n",
       "        vertical-align: middle;\n",
       "    }\n",
       "\n",
       "    .dataframe tbody tr th {\n",
       "        vertical-align: top;\n",
       "    }\n",
       "\n",
       "    .dataframe thead th {\n",
       "        text-align: right;\n",
       "    }\n",
       "</style>\n",
       "<table border=\"1\" class=\"dataframe\">\n",
       "  <thead>\n",
       "    <tr style=\"text-align: right;\">\n",
       "      <th></th>\n",
       "      <th>Meas. Pts.</th>\n",
       "      <th>Shear Rate</th>\n",
       "      <th>Shear Stress</th>\n",
       "      <th>Viscosity</th>\n",
       "    </tr>\n",
       "  </thead>\n",
       "  <tbody>\n",
       "    <tr>\n",
       "      <th>0</th>\n",
       "      <td>1</td>\n",
       "      <td>100</td>\n",
       "      <td>5.82</td>\n",
       "      <td>0.0582</td>\n",
       "    </tr>\n",
       "    <tr>\n",
       "      <th>1</th>\n",
       "      <td>2</td>\n",
       "      <td>113</td>\n",
       "      <td>6.46</td>\n",
       "      <td>0.0572</td>\n",
       "    </tr>\n",
       "    <tr>\n",
       "      <th>2</th>\n",
       "      <td>3</td>\n",
       "      <td>127</td>\n",
       "      <td>7.05</td>\n",
       "      <td>0.0553</td>\n",
       "    </tr>\n",
       "    <tr>\n",
       "      <th>3</th>\n",
       "      <td>4</td>\n",
       "      <td>144</td>\n",
       "      <td>7.80</td>\n",
       "      <td>0.0542</td>\n",
       "    </tr>\n",
       "    <tr>\n",
       "      <th>4</th>\n",
       "      <td>5</td>\n",
       "      <td>162</td>\n",
       "      <td>8.67</td>\n",
       "      <td>0.0534</td>\n",
       "    </tr>\n",
       "    <tr>\n",
       "      <th>5</th>\n",
       "      <td>6</td>\n",
       "      <td>183</td>\n",
       "      <td>9.67</td>\n",
       "      <td>0.0527</td>\n",
       "    </tr>\n",
       "    <tr>\n",
       "      <th>6</th>\n",
       "      <td>7</td>\n",
       "      <td>207</td>\n",
       "      <td>10.80</td>\n",
       "      <td>0.0523</td>\n",
       "    </tr>\n",
       "    <tr>\n",
       "      <th>7</th>\n",
       "      <td>8</td>\n",
       "      <td>234</td>\n",
       "      <td>12.10</td>\n",
       "      <td>0.0517</td>\n",
       "    </tr>\n",
       "    <tr>\n",
       "      <th>8</th>\n",
       "      <td>9</td>\n",
       "      <td>264</td>\n",
       "      <td>13.60</td>\n",
       "      <td>0.0516</td>\n",
       "    </tr>\n",
       "    <tr>\n",
       "      <th>9</th>\n",
       "      <td>10</td>\n",
       "      <td>298</td>\n",
       "      <td>15.40</td>\n",
       "      <td>0.0516</td>\n",
       "    </tr>\n",
       "    <tr>\n",
       "      <th>10</th>\n",
       "      <td>11</td>\n",
       "      <td>336</td>\n",
       "      <td>17.30</td>\n",
       "      <td>0.0513</td>\n",
       "    </tr>\n",
       "    <tr>\n",
       "      <th>11</th>\n",
       "      <td>12</td>\n",
       "      <td>379</td>\n",
       "      <td>19.40</td>\n",
       "      <td>0.0511</td>\n",
       "    </tr>\n",
       "    <tr>\n",
       "      <th>12</th>\n",
       "      <td>13</td>\n",
       "      <td>428</td>\n",
       "      <td>21.80</td>\n",
       "      <td>0.0510</td>\n",
       "    </tr>\n",
       "    <tr>\n",
       "      <th>13</th>\n",
       "      <td>14</td>\n",
       "      <td>483</td>\n",
       "      <td>24.60</td>\n",
       "      <td>0.0510</td>\n",
       "    </tr>\n",
       "    <tr>\n",
       "      <th>14</th>\n",
       "      <td>15</td>\n",
       "      <td>546</td>\n",
       "      <td>27.80</td>\n",
       "      <td>0.0509</td>\n",
       "    </tr>\n",
       "    <tr>\n",
       "      <th>15</th>\n",
       "      <td>16</td>\n",
       "      <td>616</td>\n",
       "      <td>31.30</td>\n",
       "      <td>0.0509</td>\n",
       "    </tr>\n",
       "    <tr>\n",
       "      <th>16</th>\n",
       "      <td>17</td>\n",
       "      <td>695</td>\n",
       "      <td>35.30</td>\n",
       "      <td>0.0508</td>\n",
       "    </tr>\n",
       "    <tr>\n",
       "      <th>17</th>\n",
       "      <td>18</td>\n",
       "      <td>785</td>\n",
       "      <td>39.80</td>\n",
       "      <td>0.0508</td>\n",
       "    </tr>\n",
       "    <tr>\n",
       "      <th>18</th>\n",
       "      <td>19</td>\n",
       "      <td>886</td>\n",
       "      <td>44.90</td>\n",
       "      <td>0.0507</td>\n",
       "    </tr>\n",
       "    <tr>\n",
       "      <th>19</th>\n",
       "      <td>20</td>\n",
       "      <td>1,000</td>\n",
       "      <td>50.60</td>\n",
       "      <td>0.0506</td>\n",
       "    </tr>\n",
       "  </tbody>\n",
       "</table>\n",
       "</div>"
      ],
      "text/plain": [
       "    Meas. Pts. Shear Rate  Shear Stress  Viscosity\n",
       "0            1        100          5.82     0.0582\n",
       "1            2        113          6.46     0.0572\n",
       "2            3        127          7.05     0.0553\n",
       "3            4        144          7.80     0.0542\n",
       "4            5        162          8.67     0.0534\n",
       "5            6        183          9.67     0.0527\n",
       "6            7        207         10.80     0.0523\n",
       "7            8        234         12.10     0.0517\n",
       "8            9        264         13.60     0.0516\n",
       "9           10        298         15.40     0.0516\n",
       "10          11        336         17.30     0.0513\n",
       "11          12        379         19.40     0.0511\n",
       "12          13        428         21.80     0.0510\n",
       "13          14        483         24.60     0.0510\n",
       "14          15        546         27.80     0.0509\n",
       "15          16        616         31.30     0.0509\n",
       "16          17        695         35.30     0.0508\n",
       "17          18        785         39.80     0.0508\n",
       "18          19        886         44.90     0.0507\n",
       "19          20      1,000         50.60     0.0506"
      ]
     },
     "execution_count": 15,
     "metadata": {},
     "output_type": "execute_result"
    }
   ],
   "source": [
    "test"
   ]
  },
  {
   "cell_type": "code",
   "execution_count": 13,
   "id": "b8bf82fa-dc6a-4a7f-8479-28effe76b2d8",
   "metadata": {},
   "outputs": [
    {
     "data": {
      "text/plain": [
       "0.052364999999999995"
      ]
     },
     "execution_count": 13,
     "metadata": {},
     "output_type": "execute_result"
    }
   ],
   "source": [
    "np.mean(test[\"Viscosity\"])\n"
   ]
  },
  {
   "cell_type": "code",
   "execution_count": 17,
   "id": "52c0eaba-69bb-4119-8ae3-c432ac4d6340",
   "metadata": {},
   "outputs": [
    {
     "name": "stdout",
     "output_type": "stream",
     "text": [
      "CTAB_0.5: 0.0524\n",
      "CTAB_1.0: 0.0602\n",
      "CTAB_3.0: 0.0611\n",
      "CTAB_5.0: 0.0671\n",
      "Triton_0.5: 0.0539\n",
      "Triton_1.0: 0.0581\n",
      "Triton_3.0: 0.0591\n",
      "Triton_5.0: 0.0663\n"
     ]
    }
   ],
   "source": [
    "for file in listdir(path)[1:]:\n",
    "    temp = pd.read_csv(path+file)\n",
    "    visc = np.mean(temp[\"Viscosity\"])\n",
    "    print(f\"{file[:-4]}: {round(visc,4)}\")"
   ]
  },
  {
   "cell_type": "code",
   "execution_count": 18,
   "id": "1c6c73b3-d669-4d09-bd3a-5a70e7ee2bf3",
   "metadata": {},
   "outputs": [],
   "source": [
    "path_2 = \"C:/Users/Kevin/Desktop/NS project/Files/Visco/nieuwe map/\" "
   ]
  },
  {
   "cell_type": "code",
   "execution_count": 19,
   "id": "703fc559-13cf-4c21-b863-909aed58f076",
   "metadata": {},
   "outputs": [
    {
     "data": {
      "text/plain": [
       "['Doss_0.5_Viscosity.txt',\n",
       " 'Doss_1_Viscosity.txt',\n",
       " 'Doss_3_Viscosity.txt',\n",
       " 'Doss_5_Viscosity.txt',\n",
       " 'Sds_1_Viscosity.txt',\n",
       " 'Sds_5_Viscosity.txt']"
      ]
     },
     "execution_count": 19,
     "metadata": {},
     "output_type": "execute_result"
    }
   ],
   "source": [
    "listdir(path_2)"
   ]
  },
  {
   "cell_type": "code",
   "execution_count": 22,
   "id": "b55adbdb-95cf-4dbc-9284-632fa6ec3289",
   "metadata": {},
   "outputs": [
    {
     "name": "stdout",
     "output_type": "stream",
     "text": [
      "Doss_0.5_Viscosity: 0.0504\n",
      "Doss_1_Viscosity: 0.0539\n",
      "Doss_3_Viscosity: 0.0807\n",
      "Doss_5_Viscosity: 0.0672\n",
      "Sds_1_Viscosity: 0.065\n",
      "Sds_5_Viscosity: 0.0919\n"
     ]
    }
   ],
   "source": [
    "for file in listdir(path_2):\n",
    "    temp = pd.read_csv(path_2+file, sep = \"\\t\")\n",
    "    visc = np.mean(temp[\"Viscosity\"])\n",
    "    print(f\"{file[:-4]}: {round(visc,4)}\")"
   ]
  },
  {
   "cell_type": "code",
   "execution_count": 21,
   "id": "0fe18f5a-0bf1-4cc5-b51a-978ed915e840",
   "metadata": {},
   "outputs": [
    {
     "data": {
      "text/html": [
       "<div>\n",
       "<style scoped>\n",
       "    .dataframe tbody tr th:only-of-type {\n",
       "        vertical-align: middle;\n",
       "    }\n",
       "\n",
       "    .dataframe tbody tr th {\n",
       "        vertical-align: top;\n",
       "    }\n",
       "\n",
       "    .dataframe thead th {\n",
       "        text-align: right;\n",
       "    }\n",
       "</style>\n",
       "<table border=\"1\" class=\"dataframe\">\n",
       "  <thead>\n",
       "    <tr style=\"text-align: right;\">\n",
       "      <th></th>\n",
       "      <th>Meas. Pts.,\"Shear Rate\",\"Shear Stress\",\"Viscosity\"</th>\n",
       "    </tr>\n",
       "  </thead>\n",
       "  <tbody>\n",
       "    <tr>\n",
       "      <th>0</th>\n",
       "      <td>1,\"100\",\"5.82\",\"0.0582\"</td>\n",
       "    </tr>\n",
       "    <tr>\n",
       "      <th>1</th>\n",
       "      <td>2,\"113\",\"6.46\",\"0.0572\"</td>\n",
       "    </tr>\n",
       "    <tr>\n",
       "      <th>2</th>\n",
       "      <td>3,\"127\",\"7.05\",\"0.0553\"</td>\n",
       "    </tr>\n",
       "    <tr>\n",
       "      <th>3</th>\n",
       "      <td>4,\"144\",\"7.8\",\"0.0542\"</td>\n",
       "    </tr>\n",
       "    <tr>\n",
       "      <th>4</th>\n",
       "      <td>5,\"162\",\"8.67\",\"0.0534\"</td>\n",
       "    </tr>\n",
       "    <tr>\n",
       "      <th>5</th>\n",
       "      <td>6,\"183\",\"9.67\",\"0.0527\"</td>\n",
       "    </tr>\n",
       "    <tr>\n",
       "      <th>6</th>\n",
       "      <td>7,\"207\",\"10.8\",\"0.0523\"</td>\n",
       "    </tr>\n",
       "    <tr>\n",
       "      <th>7</th>\n",
       "      <td>8,\"234\",\"12.1\",\"0.0517\"</td>\n",
       "    </tr>\n",
       "    <tr>\n",
       "      <th>8</th>\n",
       "      <td>9,\"264\",\"13.6\",\"0.0516\"</td>\n",
       "    </tr>\n",
       "    <tr>\n",
       "      <th>9</th>\n",
       "      <td>10,\"298\",\"15.4\",\"0.0516\"</td>\n",
       "    </tr>\n",
       "    <tr>\n",
       "      <th>10</th>\n",
       "      <td>11,\"336\",\"17.3\",\"0.0513\"</td>\n",
       "    </tr>\n",
       "    <tr>\n",
       "      <th>11</th>\n",
       "      <td>12,\"379\",\"19.4\",\"0.0511\"</td>\n",
       "    </tr>\n",
       "    <tr>\n",
       "      <th>12</th>\n",
       "      <td>13,\"428\",\"21.8\",\"0.051\"</td>\n",
       "    </tr>\n",
       "    <tr>\n",
       "      <th>13</th>\n",
       "      <td>14,\"483\",\"24.6\",\"0.051\"</td>\n",
       "    </tr>\n",
       "    <tr>\n",
       "      <th>14</th>\n",
       "      <td>15,\"546\",\"27.8\",\"0.0509\"</td>\n",
       "    </tr>\n",
       "    <tr>\n",
       "      <th>15</th>\n",
       "      <td>16,\"616\",\"31.3\",\"0.0509\"</td>\n",
       "    </tr>\n",
       "    <tr>\n",
       "      <th>16</th>\n",
       "      <td>17,\"695\",\"35.3\",\"0.0508\"</td>\n",
       "    </tr>\n",
       "    <tr>\n",
       "      <th>17</th>\n",
       "      <td>18,\"785\",\"39.8\",\"0.0508\"</td>\n",
       "    </tr>\n",
       "    <tr>\n",
       "      <th>18</th>\n",
       "      <td>19,\"886\",\"44.9\",\"0.0507\"</td>\n",
       "    </tr>\n",
       "    <tr>\n",
       "      <th>19</th>\n",
       "      <td>20,\"1,000\",\"50.6\",\"0.0506\"</td>\n",
       "    </tr>\n",
       "  </tbody>\n",
       "</table>\n",
       "</div>"
      ],
      "text/plain": [
       "   Meas. Pts.,\"Shear Rate\",\"Shear Stress\",\"Viscosity\"\n",
       "0                             1,\"100\",\"5.82\",\"0.0582\"\n",
       "1                             2,\"113\",\"6.46\",\"0.0572\"\n",
       "2                             3,\"127\",\"7.05\",\"0.0553\"\n",
       "3                              4,\"144\",\"7.8\",\"0.0542\"\n",
       "4                             5,\"162\",\"8.67\",\"0.0534\"\n",
       "5                             6,\"183\",\"9.67\",\"0.0527\"\n",
       "6                             7,\"207\",\"10.8\",\"0.0523\"\n",
       "7                             8,\"234\",\"12.1\",\"0.0517\"\n",
       "8                             9,\"264\",\"13.6\",\"0.0516\"\n",
       "9                            10,\"298\",\"15.4\",\"0.0516\"\n",
       "10                           11,\"336\",\"17.3\",\"0.0513\"\n",
       "11                           12,\"379\",\"19.4\",\"0.0511\"\n",
       "12                            13,\"428\",\"21.8\",\"0.051\"\n",
       "13                            14,\"483\",\"24.6\",\"0.051\"\n",
       "14                           15,\"546\",\"27.8\",\"0.0509\"\n",
       "15                           16,\"616\",\"31.3\",\"0.0509\"\n",
       "16                           17,\"695\",\"35.3\",\"0.0508\"\n",
       "17                           18,\"785\",\"39.8\",\"0.0508\"\n",
       "18                           19,\"886\",\"44.9\",\"0.0507\"\n",
       "19                         20,\"1,000\",\"50.6\",\"0.0506\""
      ]
     },
     "execution_count": 21,
     "metadata": {},
     "output_type": "execute_result"
    }
   ],
   "source": [
    "temp"
   ]
  },
  {
   "cell_type": "code",
   "execution_count": 23,
   "id": "2405da6f-1f65-44c3-a9c3-bf08e7437beb",
   "metadata": {},
   "outputs": [],
   "source": [
    "path_3 = \"C:/Users/Kevin/Desktop/NS project/Files/Visco/Water_Viscosity.txt\" "
   ]
  },
  {
   "cell_type": "code",
   "execution_count": 24,
   "id": "d600af1d-76b5-4758-9d22-fa5d22f8f6e6",
   "metadata": {},
   "outputs": [],
   "source": [
    "last = pd.read_csv(path_3, sep = \"\\t\")"
   ]
  },
  {
   "cell_type": "code",
   "execution_count": 28,
   "id": "4a16a774-474a-4ea9-873b-fc96b1714665",
   "metadata": {},
   "outputs": [
    {
     "data": {
      "text/plain": [
       "0.053"
      ]
     },
     "execution_count": 28,
     "metadata": {},
     "output_type": "execute_result"
    }
   ],
   "source": [
    "round(np.mean(last[\"Viscosity\"]), 4)"
   ]
  },
  {
   "cell_type": "code",
   "execution_count": null,
   "id": "b70dc6a7-ebe4-4413-a93b-8633f29fe0ea",
   "metadata": {},
   "outputs": [],
   "source": []
  }
 ],
 "metadata": {
  "kernelspec": {
   "display_name": "Python 3 (ipykernel)",
   "language": "python",
   "name": "python3"
  },
  "language_info": {
   "codemirror_mode": {
    "name": "ipython",
    "version": 3
   },
   "file_extension": ".py",
   "mimetype": "text/x-python",
   "name": "python",
   "nbconvert_exporter": "python",
   "pygments_lexer": "ipython3",
   "version": "3.8.8"
  }
 },
 "nbformat": 4,
 "nbformat_minor": 5
}
